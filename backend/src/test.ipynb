{
 "cells": [
  {
   "cell_type": "code",
   "execution_count": 6,
   "id": "b2d8b7f7",
   "metadata": {},
   "outputs": [],
   "source": [
    "import os\n",
    "from pathlib import Path\n",
    "import dotenv\n",
    "import googlemaps\n",
    "from datetime import datetime as dt\n",
    "import requests\n",
    "import json\n",
    "\n",
    "ROOT = Path('.').resolve().parent\n",
    "\n",
    "dotenv.load_dotenv(ROOT / '.env')\n",
    "GOOGLE_MAPS_API_KEY = os.getenv('GOOGLE_MAPS_API_KEY')\n"
   ]
  },
  {
   "cell_type": "code",
   "execution_count": 31,
   "id": "1703fd07",
   "metadata": {},
   "outputs": [],
   "source": [
    "gmaps = googlemaps.Client(GOOGLE_MAPS_API_KEY)\n",
    "\n",
    "origins = [\n",
    "  (43.069572, 141.346915)\n",
    "]\n",
    "destinations = [\n",
    "  (43.089562, 140.381643),\n",
    "  # (43.089562, 141.381643),\n",
    "  # (43.077201, 141.365783),\n",
    "  # (43.067433, 141.371088),\n",
    "  # (43.090311, 141.355910),\n",
    "]\n",
    "\n",
    "now = dt.now()\n",
    "\n",
    "res = gmaps.distance_matrix(\n",
    "  origins=origins,\n",
    "  destinations=destinations,\n",
    "  mode='walking',\n",
    "  language='ja',\n",
    "  departure_time=now\n",
    ")\n"
   ]
  },
  {
   "cell_type": "code",
   "execution_count": 32,
   "id": "333b91fa",
   "metadata": {},
   "outputs": [
    {
     "data": {
      "text/plain": [
       "{'destination_addresses': ['43.089562,140.381643'],\n",
       " 'origin_addresses': ['43.069572,141.346915'],\n",
       " 'rows': [{'elements': [{'status': 'ZERO_RESULTS'}]}],\n",
       " 'status': 'OK'}"
      ]
     },
     "execution_count": 32,
     "metadata": {},
     "output_type": "execute_result"
    }
   ],
   "source": [
    "res\n"
   ]
  },
  {
   "cell_type": "code",
   "execution_count": 16,
   "id": "967e895d",
   "metadata": {},
   "outputs": [
    {
     "name": "stdout",
     "output_type": "stream",
     "text": [
      "札幌市北区・東区の交差点情報を取得中...\n",
      "\n",
      "合計 8427 件の交差点が見つかりました。\n"
     ]
    }
   ],
   "source": [
    "\n",
    "\n",
    "# Overpass APIのエンドポイント\n",
    "overpass_url = \"https://overpass-api.de/api/interpreter\"\n",
    "\n",
    "# 札幌市北区 (ID: 4057639) と東区 (ID: 4057640) を対象とし、\n",
    "# 高速道路や自動車専用道路を除外して名前付き交差点を取得するクエリ\n",
    "overpass_query = \"\"\"\n",
    "[out:json][timeout:60];\n",
    "\n",
    "// --- 北区・東区あたりの緯度経度 (仮) ---\n",
    "area[\"name\"=\"札幌市北区\"]->.north;\n",
    "area[\"name\"=\"札幌市東区\"]->.east;\n",
    "(.north; .east;)->.searchArea;\n",
    "\n",
    "// 高速道路などを除外して通常道路のみ取得\n",
    "way[\"highway\"]\n",
    "  [\"highway\"!~\"motorway|motorway_link|trunk|trunk_link|service|footway|path|cycleway|steps|pedestrian\"]\n",
    "  (43.05,141.30,43.17,141.45)\n",
    "  ->.roads;\n",
    "\n",
    "// roads に含まれるノードを取得\n",
    "node(w.roads)->.road_nodes;\n",
    "\n",
    "// road_nodes のうち、複数の road に属しているノード（交差点候補）を取得\n",
    "way.roads(bn.road_nodes);\n",
    "node(w)[\"highway\"]->.maybe_intersections;\n",
    "\n",
    "// 出力\n",
    ".maybe_intersections out body;\n",
    "\"\"\"\n",
    "\n",
    "print(\"札幌市北区・東区の交差点情報を取得中...\")\n",
    "\n",
    "try:\n",
    "  # APIにリクエストを送信\n",
    "  response = requests.get(overpass_url, params={'data': overpass_query})\n",
    "  response.raise_for_status() # エラーがあれば例外を発生させる\n",
    "\n",
    "  # 結果をJSON形式で取得\n",
    "  data = response.json()\n",
    "\n",
    "  # 取得した交差点の情報を表示\n",
    "  count = len(data['elements'])\n",
    "  # for element in data['elements']:\n",
    "  #   if element['type'] == 'node':\n",
    "  #     # 'name' タグが存在することを確認\n",
    "  #     if 'tags' in element and 'name' in element['tags']:\n",
    "  #       name = element['tags']['name']\n",
    "  #       lat = element['lat']\n",
    "  #       lon = element['lon']\n",
    "  #       print(f\"交差点名: {name}, 緯度: {lat}, 経度: {lon}\")\n",
    "  #       count += 1\n",
    "\n",
    "  print(f\"\\n合計 {count} 件の交差点が見つかりました。\")\n",
    "\n",
    "except requests.exceptions.RequestException as e:\n",
    "  print(f\"通信エラーが発生しました: {e}\")\n",
    "except json.JSONDecodeError:\n",
    "  print(\"サーバーからの応答がJSON形式ではありません。\")\n",
    "except Exception as e:\n",
    "  print(f\"予期せぬエラーが発生しました: {e}\")\n"
   ]
  },
  {
   "cell_type": "code",
   "execution_count": 25,
   "id": "18eb2561",
   "metadata": {},
   "outputs": [],
   "source": [
    "coords: list[tuple[str, str]] = []\n",
    "for element in data['elements']:\n",
    "  coords.append((str(element['lat']), str(element['lon'])))\n"
   ]
  },
  {
   "cell_type": "code",
   "execution_count": 26,
   "id": "9d229a3d",
   "metadata": {},
   "outputs": [],
   "source": [
    "with open('coords.csv', 'w') as f:\n",
    "  for coord in coords:\n",
    "    f.write(f'{\", \".join(coord)}\\n')\n"
   ]
  }
 ],
 "metadata": {
  "kernelspec": {
   "display_name": "backend",
   "language": "python",
   "name": "python3"
  },
  "language_info": {
   "codemirror_mode": {
    "name": "ipython",
    "version": 3
   },
   "file_extension": ".py",
   "mimetype": "text/x-python",
   "name": "python",
   "nbconvert_exporter": "python",
   "pygments_lexer": "ipython3",
   "version": "3.11.6"
  }
 },
 "nbformat": 4,
 "nbformat_minor": 5
}
